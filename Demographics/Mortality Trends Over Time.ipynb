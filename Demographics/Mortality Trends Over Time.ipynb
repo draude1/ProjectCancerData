{
 "cells": [
  {
   "cell_type": "code",
   "execution_count": 26,
   "id": "fb18ba99-e07a-4702-8aab-59b7802ff202",
   "metadata": {},
   "outputs": [
    {
     "data": {
      "application/vnd.jupyter.widget-view+json": {
       "model_id": "ba8e5993a2934621946a2d519e6dac98",
       "version_major": 2,
       "version_minor": 0
      },
      "text/plain": [
       "interactive(children=(Dropdown(description='Gender:', options=('All', 'Male', 'Female', 'Unknown'), value='All…"
      ]
     },
     "metadata": {},
     "output_type": "display_data"
    }
   ],
   "source": [
    "import pandas as pd\n",
    "import matplotlib.pyplot as plt\n",
    "from ipywidgets import interact, widgets\n",
    "import warnings\n",
    "\n",
    "# Suppress warnings\n",
    "warnings.filterwarnings(\"ignore\")\n",
    "\n",
    "# Function to load and process data\n",
    "def load_patient_data(file_path, chunk_size=100000):\n",
    "    \"\"\"\n",
    "    Load the patient data in chunks and process relevant columns.\n",
    "    \"\"\"\n",
    "    chunks = []\n",
    "    for chunk in pd.read_csv(\n",
    "        file_path, \n",
    "        usecols=['VITALSTATUSDATE', 'GENDER', 'ETHNICITY'],  # Only relevant columns\n",
    "        dtype={'GENDER': 'int8', 'ETHNICITY': 'category'},  # Optimize data types\n",
    "        parse_dates=['VITALSTATUSDATE'],  # Parse dates\n",
    "        chunksize=chunk_size,\n",
    "        low_memory=True\n",
    "    ):\n",
    "        chunks.append(chunk.dropna(subset=['VITALSTATUSDATE']))  # Drop rows with missing dates\n",
    "\n",
    "    return pd.concat(chunks, ignore_index=True)\n",
    "\n",
    "# Load the patient dataset\n",
    "file_path = \"C:/Users/wardo/Documents/Internship/cancer_download/Data/sim_av_patient.csv\"\n",
    "patient_df = load_patient_data(file_path)\n",
    "\n",
    "# Map gender for better readability\n",
    "gender_mapping = {1: 'Male', 2: 'Female', 9: 'Unknown'}\n",
    "patient_df['GENDER_mapped'] = patient_df['GENDER'].map(gender_mapping)\n",
    "\n",
    "# Define function for plotting timeline\n",
    "def plot_timeline(gender_filter=\"All\", ethnicity_filter=\"All\", chart_type=\"Line\", time_period=\"Yearly\"):\n",
    "    \"\"\"\n",
    "    Plots a timeline chart of deaths based on VITALSTATUSDATE, filtered by gender and ethnicity.\n",
    "    \"\"\"\n",
    "    # Filter the dataset based on gender and ethnicity\n",
    "    filtered_df = patient_df.copy()\n",
    "    if gender_filter != \"All\":\n",
    "        filtered_df = filtered_df[filtered_df['GENDER_mapped'] == gender_filter]\n",
    "    if ethnicity_filter != \"All\":\n",
    "        filtered_df = filtered_df[filtered_df['ETHNICITY'] == ethnicity_filter]\n",
    "\n",
    "    # Resample data based on the selected time period\n",
    "    if time_period == \"Yearly\":\n",
    "        deaths_by_date = filtered_df['VITALSTATUSDATE'].dt.to_period('Y').value_counts().sort_index()\n",
    "    elif time_period == \"Monthly\":\n",
    "        deaths_by_date = filtered_df['VITALSTATUSDATE'].dt.to_period('M').value_counts().sort_index()\n",
    "\n",
    "    # Plot the timeline chart\n",
    "    plt.figure(figsize=(12, 6))\n",
    "    if chart_type == \"Line\":\n",
    "        deaths_by_date.sort_index().plot(kind='line', marker='o', color='steelblue', alpha=0.8)\n",
    "    elif chart_type == \"Bar\":\n",
    "        deaths_by_date.sort_index().plot(kind='bar', color='steelblue', alpha=0.8)\n",
    "\n",
    "    # Add chart labels and title\n",
    "    plt.title(f\"Deaths Timeline ({time_period}, Gender: {gender_filter}, Ethnicity: {ethnicity_filter})\", fontsize=16)\n",
    "    plt.xlabel(\"Date\", fontsize=14)\n",
    "    plt.ylabel(\"Number of Deaths\", fontsize=14)\n",
    "    plt.xticks(rotation=45)\n",
    "    plt.tight_layout()\n",
    "    plt.show()\n",
    "\n",
    "# Interactive Filters for Gender, Ethnicity, and Chart Type\n",
    "gender_options = [\"All\"] + patient_df['GENDER_mapped'].dropna().unique().tolist()\n",
    "ethnicity_options = [\"All\"] + patient_df['ETHNICITY'].dropna().unique().tolist()\n",
    "\n",
    "# Create interactive dropdowns and sliders\n",
    "@interact\n",
    "def update_plot(\n",
    "    gender_filter=widgets.Dropdown(options=gender_options, description=\"Gender:\"),\n",
    "    ethnicity_filter=widgets.Dropdown(options=ethnicity_options, description=\"Ethnicity:\"),\n",
    "    chart_type=widgets.Dropdown(options=[\"Line\", \"Bar\"], description=\"Chart Type:\"),\n",
    "    time_period=widgets.Dropdown(options=[\"Yearly\", \"Monthly\"], description=\"Time Period:\")\n",
    "):\n",
    "    plot_timeline(gender_filter, ethnicity_filter, chart_type, time_period)\n"
   ]
  },
  {
   "cell_type": "code",
   "execution_count": null,
   "id": "395a40df-7b3b-48df-bcea-1b2afda345b4",
   "metadata": {},
   "outputs": [],
   "source": []
  }
 ],
 "metadata": {
  "kernelspec": {
   "display_name": "Python 3 (ipykernel)",
   "language": "python",
   "name": "python3"
  },
  "language_info": {
   "codemirror_mode": {
    "name": "ipython",
    "version": 3
   },
   "file_extension": ".py",
   "mimetype": "text/x-python",
   "name": "python",
   "nbconvert_exporter": "python",
   "pygments_lexer": "ipython3",
   "version": "3.12.2"
  }
 },
 "nbformat": 4,
 "nbformat_minor": 5
}
